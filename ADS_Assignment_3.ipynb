{
 "cells": [
  {
   "cell_type": "code",
   "execution_count": null,
   "id": "c6fd375c",
   "metadata": {},
   "outputs": [],
   "source": [
    "import numpy as np\n",
    "import pandas as pd\n",
    "import seaborn as sns\n",
    "import matplotlib.pyplot as plt"
   ]
  },
  {
   "cell_type": "markdown",
   "id": "85ea4ab0",
   "metadata": {},
   "source": [
    "### Load the dataset"
   ]
  },
  {
   "cell_type": "code",
   "execution_count": null,
   "id": "b92dc8d3",
   "metadata": {},
   "outputs": [],
   "source": [
    "data = pd.read_csv('Housing.csv')"
   ]
  },
  {
   "cell_type": "code",
   "execution_count": null,
   "id": "e7cc7a16",
   "metadata": {},
   "outputs": [],
   "source": [
    "data.head()"
   ]
  },
  {
   "cell_type": "code",
   "execution_count": null,
   "id": "98ff0bcd",
   "metadata": {},
   "outputs": [],
   "source": [
    "data.tail()"
   ]
  },
  {
   "cell_type": "markdown",
   "id": "69d0feec",
   "metadata": {},
   "source": [
    "### Univariate Analysis"
   ]
  },
  {
   "cell_type": "code",
   "execution_count": null,
   "id": "89107c9a",
   "metadata": {},
   "outputs": [],
   "source": [
    "plt.figure(figsize=(8, 6))\n",
    "sns.histplot(data['furnishingstatus'], kde=True)"
   ]
  },
  {
   "cell_type": "code",
   "execution_count": null,
   "id": "32f57234",
   "metadata": {},
   "outputs": [],
   "source": [
    "plt.figure(figsize=(8, 6))\n",
    "sns.boxplot(data=data, y='area')"
   ]
  },
  {
   "cell_type": "code",
   "execution_count": null,
   "id": "905f3ae5",
   "metadata": {},
   "outputs": [],
   "source": [
    "plt.figure(figsize=(8, 6))\n",
    "sns.boxplot(data=data, y='price')"
   ]
  },
  {
   "cell_type": "markdown",
   "id": "456b359e",
   "metadata": {},
   "source": [
    "### Bivariate Analysis"
   ]
  },
  {
   "cell_type": "code",
   "execution_count": null,
   "id": "0bf407c4",
   "metadata": {},
   "outputs": [],
   "source": [
    "sns.boxplot(x='parking', y='area', data=data)"
   ]
  },
  {
   "cell_type": "code",
   "execution_count": null,
   "id": "fc3f9dd8",
   "metadata": {},
   "outputs": [],
   "source": [
    "sns.barplot(x='bedrooms', y='price', data=data)"
   ]
  },
  {
   "cell_type": "code",
   "execution_count": null,
   "id": "743c998f",
   "metadata": {},
   "outputs": [],
   "source": [
    "sns.pairplot(data, hue='area')"
   ]
  },
  {
   "cell_type": "code",
   "execution_count": null,
   "id": "dff9104b",
   "metadata": {},
   "outputs": [],
   "source": [
    "correlation_matrix = data.corr()\n",
    "sns.heatmap(correlation_matrix, annot=True, cmap='coolwarm')"
   ]
  },
  {
   "cell_type": "markdown",
   "id": "28a8f6af",
   "metadata": {},
   "source": [
    "### Descriptive statistics"
   ]
  },
  {
   "cell_type": "code",
   "execution_count": null,
   "id": "2d420c8b",
   "metadata": {},
   "outputs": [],
   "source": [
    "data.describe()"
   ]
  },
  {
   "cell_type": "code",
   "execution_count": null,
   "id": "58639e7b",
   "metadata": {},
   "outputs": [],
   "source": [
    "data.info"
   ]
  },
  {
   "cell_type": "markdown",
   "id": "3514cd94",
   "metadata": {},
   "source": [
    "### Missing values"
   ]
  },
  {
   "cell_type": "code",
   "execution_count": null,
   "id": "eb3f4536",
   "metadata": {},
   "outputs": [],
   "source": [
    "data.isnull()"
   ]
  },
  {
   "cell_type": "code",
   "execution_count": null,
   "id": "e5909e53",
   "metadata": {},
   "outputs": [],
   "source": [
    "data.isnull().any()"
   ]
  },
  {
   "cell_type": "code",
   "execution_count": null,
   "id": "c4507dba",
   "metadata": {},
   "outputs": [],
   "source": [
    "data.isnull().sum()"
   ]
  },
  {
   "cell_type": "markdown",
   "id": "f57dd4c0",
   "metadata": {},
   "source": [
    "### Outliers"
   ]
  },
  {
   "cell_type": "code",
   "execution_count": null,
   "id": "e808869a",
   "metadata": {},
   "outputs": [],
   "source": [
    "sns.boxplot(data)"
   ]
  },
  {
   "cell_type": "code",
   "execution_count": null,
   "id": "91ca0477",
   "metadata": {},
   "outputs": [],
   "source": [
    "sns.boxplot(data['area'])"
   ]
  },
  {
   "cell_type": "code",
   "execution_count": null,
   "id": "84b966c2",
   "metadata": {},
   "outputs": [],
   "source": [
    "q1 = data['area'].quantile(0.25)\n",
    "q3 = data['area'].quantile(0.75)\n",
    "\n",
    "iqr = q3 - q1\n",
    "\n",
    "up = q3 + (1.5 * iqr)\n",
    "low = q1 - (1.5 * iqr)\n",
    "\n",
    "data['area'] = np.where(data['area'] > up, up, \n",
    "         np.where(data['area'] < low, low, data['area']))"
   ]
  },
  {
   "cell_type": "code",
   "execution_count": null,
   "id": "f57586e5",
   "metadata": {},
   "outputs": [],
   "source": [
    "sns.boxplot(data['area'])"
   ]
  },
  {
   "cell_type": "code",
   "execution_count": null,
   "id": "23df9fce",
   "metadata": {},
   "outputs": [],
   "source": [
    "data.head()"
   ]
  },
  {
   "cell_type": "markdown",
   "id": "c3d0f5ba",
   "metadata": {},
   "source": [
    "### Encoding"
   ]
  },
  {
   "cell_type": "code",
   "execution_count": null,
   "id": "bcee04b6",
   "metadata": {},
   "outputs": [],
   "source": [
    "from sklearn.preprocessing import LabelEncoder"
   ]
  },
  {
   "cell_type": "code",
   "execution_count": null,
   "id": "3d8f1447",
   "metadata": {},
   "outputs": [],
   "source": [
    "le = LabelEncoder()"
   ]
  },
  {
   "cell_type": "code",
   "execution_count": null,
   "id": "908129fb",
   "metadata": {},
   "outputs": [],
   "source": [
    "data['mainroad'] = le.fit_transform(data['mainroad'])\n",
    "data['guestroom'] = le.fit_transform(data['guestroom'])\n",
    "data['basement'] = le.fit_transform(data['basement'])\n",
    "data['hotwaterheating'] = le.fit_transform(data['hotwaterheating'])\n",
    "data['airconditioning'] = le.fit_transform(data['airconditioning'])"
   ]
  },
  {
   "cell_type": "code",
   "execution_count": null,
   "id": "37d0709b",
   "metadata": {},
   "outputs": [],
   "source": [
    "data.head()"
   ]
  },
  {
   "cell_type": "code",
   "execution_count": null,
   "id": "24d737ba",
   "metadata": {},
   "outputs": [],
   "source": [
    "from sklearn.preprocessing import OneHotEncoder"
   ]
  },
  {
   "cell_type": "code",
   "execution_count": null,
   "id": "c18f8ccc",
   "metadata": {},
   "outputs": [],
   "source": [
    "encoder = OneHotEncoder()"
   ]
  },
  {
   "cell_type": "code",
   "execution_count": null,
   "id": "d543966c",
   "metadata": {},
   "outputs": [],
   "source": [
    "names = data.columns"
   ]
  },
  {
   "cell_type": "code",
   "execution_count": null,
   "id": "5d6f75e8",
   "metadata": {},
   "outputs": [],
   "source": [
    "encoder = OneHotEncoder()\n",
    "temp = encoder.fit_transform(data.furnishingstatus.values.reshape(-1,1)).toarray()"
   ]
  },
  {
   "cell_type": "code",
   "execution_count": null,
   "id": "762defae",
   "metadata": {},
   "outputs": [],
   "source": [
    "temp = pd.DataFrame(temp, columns = ['furnished', 'semi-furnished', 'unfurnished'])"
   ]
  },
  {
   "cell_type": "code",
   "execution_count": null,
   "id": "b4338907",
   "metadata": {},
   "outputs": [],
   "source": [
    "data = pd.concat([data.drop(columns=['furnishingstatus']), temp], axis=1)"
   ]
  },
  {
   "cell_type": "code",
   "execution_count": null,
   "id": "0dddec91",
   "metadata": {},
   "outputs": [],
   "source": [
    "data.head()"
   ]
  },
  {
   "cell_type": "markdown",
   "id": "9f133835",
   "metadata": {},
   "source": [
    "### Split the data"
   ]
  },
  {
   "cell_type": "code",
   "execution_count": null,
   "id": "6d8b5bde",
   "metadata": {},
   "outputs": [],
   "source": [
    "from sklearn.model_selection import train_test_split"
   ]
  },
  {
   "cell_type": "code",
   "execution_count": null,
   "id": "37b9441c",
   "metadata": {},
   "outputs": [],
   "source": [
    "x = data.drop(columns = ['price'])"
   ]
  },
  {
   "cell_type": "code",
   "execution_count": null,
   "id": "d4733f1d",
   "metadata": {},
   "outputs": [],
   "source": [
    "y = data['price']"
   ]
  },
  {
   "cell_type": "markdown",
   "id": "01a2c03a",
   "metadata": {},
   "source": [
    "### Scaling"
   ]
  },
  {
   "cell_type": "code",
   "execution_count": null,
   "id": "332edbaa",
   "metadata": {},
   "outputs": [],
   "source": [
    "from sklearn.preprocessing import MinMaxScaler"
   ]
  },
  {
   "cell_type": "code",
   "execution_count": null,
   "id": "9efe8549",
   "metadata": {},
   "outputs": [],
   "source": [
    "scaler = MinMaxScaler()"
   ]
  },
  {
   "cell_type": "code",
   "execution_count": null,
   "id": "36acb3c3",
   "metadata": {},
   "outputs": [],
   "source": [
    "x.head()"
   ]
  },
  {
   "cell_type": "code",
   "execution_count": null,
   "id": "cf0c661d",
   "metadata": {},
   "outputs": [],
   "source": [
    "names = x.columns"
   ]
  },
  {
   "cell_type": "code",
   "execution_count": null,
   "id": "b77c7296",
   "metadata": {},
   "outputs": [],
   "source": [
    "x = scaler.fit_transform(x)\n",
    "x = pd.DataFrame(x, columns = names)"
   ]
  },
  {
   "cell_type": "code",
   "execution_count": null,
   "id": "1c60757d",
   "metadata": {},
   "outputs": [],
   "source": [
    "x.head()"
   ]
  },
  {
   "cell_type": "code",
   "execution_count": null,
   "id": "5432f5cf",
   "metadata": {},
   "outputs": [],
   "source": [
    "from sklearn.model_selection import train_test_split"
   ]
  },
  {
   "cell_type": "code",
   "execution_count": null,
   "id": "df4e5553",
   "metadata": {},
   "outputs": [],
   "source": [
    "x_train, x_test, y_train, y_test = train_test_split(x, y, test_size = 0.2, random_state = 0)"
   ]
  },
  {
   "cell_type": "markdown",
   "id": "7d2386c5",
   "metadata": {},
   "source": [
    "### Build Model"
   ]
  },
  {
   "cell_type": "code",
   "execution_count": null,
   "id": "f6c74e9a",
   "metadata": {},
   "outputs": [],
   "source": [
    "from sklearn.linear_model import LinearRegression"
   ]
  },
  {
   "cell_type": "code",
   "execution_count": null,
   "id": "657e6fbd",
   "metadata": {},
   "outputs": [],
   "source": [
    "model = LinearRegression()"
   ]
  },
  {
   "cell_type": "markdown",
   "id": "153600f0",
   "metadata": {},
   "source": [
    "### Train model"
   ]
  },
  {
   "cell_type": "code",
   "execution_count": null,
   "id": "2cc223b3",
   "metadata": {},
   "outputs": [],
   "source": [
    "model.fit(x_train, y_train)"
   ]
  },
  {
   "cell_type": "markdown",
   "id": "0700a905",
   "metadata": {},
   "source": [
    "### Test model"
   ]
  },
  {
   "cell_type": "code",
   "execution_count": null,
   "id": "17e15b6d",
   "metadata": {},
   "outputs": [],
   "source": [
    "pred = model.predict(x_test)"
   ]
  },
  {
   "cell_type": "markdown",
   "id": "2fcc7c2a",
   "metadata": {},
   "source": [
    "### Evaluate"
   ]
  },
  {
   "cell_type": "code",
   "execution_count": null,
   "id": "82e9f4dd",
   "metadata": {},
   "outputs": [],
   "source": [
    "from sklearn.metrics import *"
   ]
  },
  {
   "cell_type": "code",
   "execution_count": null,
   "id": "395197cc",
   "metadata": {},
   "outputs": [],
   "source": [
    "accuracy = r2_score(pred, y_test) * 100"
   ]
  },
  {
   "cell_type": "code",
   "execution_count": null,
   "id": "0110a187",
   "metadata": {},
   "outputs": [],
   "source": [
    "accuracy"
   ]
  },
  {
   "cell_type": "code",
   "execution_count": null,
   "id": "d59c583e",
   "metadata": {},
   "outputs": [],
   "source": []
  }
 ],
 "metadata": {
  "kernelspec": {
   "display_name": "Python 3 (ipykernel)",
   "language": "python",
   "name": "python3"
  },
  "language_info": {
   "codemirror_mode": {
    "name": "ipython",
    "version": 3
   },
   "file_extension": ".py",
   "mimetype": "text/x-python",
   "name": "python",
   "nbconvert_exporter": "python",
   "pygments_lexer": "ipython3",
   "version": "3.10.9"
  }
 },
 "nbformat": 4,
 "nbformat_minor": 5
}
